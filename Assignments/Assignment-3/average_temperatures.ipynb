{
 "cells": [
  {
   "cell_type": "code",
   "execution_count": 1,
   "metadata": {
    "collapsed": false
   },
   "outputs": [],
   "source": [
    "import matplotlib.pyplot as plt\n",
    "filereader = open('toronto_temperature_2012.dat', 'r')\n",
    "filereader2 = open('montreal_temperature_2012.dat', 'r')\n",
    "filereader3 = open('vancouver_temperature_2012.dat', 'r')\n",
    "#temperatures are arranged one by one for each month\n",
    "a = list()\n",
    "b = list()\n",
    "c = list()\n",
    "x = range(1,13)\n",
    "for line in filereader:\n",
    "    a.append(line)\n",
    "for line in filereader2:\n",
    "    b.append(line)\n",
    "for line in filereader3:\n",
    "    c.append(line)\n",
    "plt.plot(x, a, 'r--', label='Toronto')\n",
    "plt.plot(x, b, 'b--', label='Montreal')\n",
    "plt.plot(x, c, 'g--', label='Vancouver')\n",
    "plt.xlabel('Month')\n",
    "plt.ylabel('Temperature in Celcius')\n",
    "labels = ['Jan', 'Feb', 'Mar', 'Apr', 'May', 'Jun', 'Jul', 'Aug', 'Sep'\n",
    "         , 'Oct', 'Nov', 'Dec']\n",
    "plt.xticks(x, labels, rotation='vertical')\n",
    "plt.title(\"2012 average monthly temperatures (100486809)\")\n",
    "plt.legend(loc=\"upper left\")\n",
    "plt.show()"
   ]
  },
  {
   "cell_type": "code",
   "execution_count": null,
   "metadata": {
    "collapsed": true
   },
   "outputs": [],
   "source": []
  }
 ],
 "metadata": {
  "kernelspec": {
   "display_name": "Python 3",
   "language": "python",
   "name": "python3"
  },
  "language_info": {
   "codemirror_mode": {
    "name": "ipython",
    "version": 3
   },
   "file_extension": ".py",
   "mimetype": "text/x-python",
   "name": "python",
   "nbconvert_exporter": "python",
   "pygments_lexer": "ipython3",
   "version": "3.5.0"
  }
 },
 "nbformat": 4,
 "nbformat_minor": 0
}
