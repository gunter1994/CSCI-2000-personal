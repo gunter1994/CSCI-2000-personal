{
 "cells": [
  {
   "cell_type": "code",
   "execution_count": 14,
   "metadata": {
    "collapsed": false
   },
   "outputs": [],
   "source": [
    "import matplotlib.pyplot as plt\n",
    "sizes = [46,38,29,24,13,11,11,8,8,7,107]\n",
    "labels = (\"USA\", \"CHN\", \"GBR\", \"RUS\", \"KOR\", \"GER\", \"FRA\", \"ITA\", \"HUN\"\n",
    "          , \"AUS\" , \"OTHER\")\n",
    "colors = ['blue', 'red', 'yellow', 'purple', 'brown', 'orange', 'gold'\n",
    "          , 'green' , 'maroon', 'teal', 'navy']\n",
    "plt.pie(sizes, labels=labels, colors=colors, autopct='%1.1f%%', shadow=True\n",
    "        , startangle=90)\n",
    "plt.title(\"2012 Olympic Gold Medals (100486809)\")\n",
    "plt.show()"
   ]
  },
  {
   "cell_type": "code",
   "execution_count": null,
   "metadata": {
    "collapsed": true
   },
   "outputs": [],
   "source": []
  }
 ],
 "metadata": {
  "kernelspec": {
   "display_name": "Python 3",
   "language": "python",
   "name": "python3"
  },
  "language_info": {
   "codemirror_mode": {
    "name": "ipython",
    "version": 3
   },
   "file_extension": ".py",
   "mimetype": "text/x-python",
   "name": "python",
   "nbconvert_exporter": "python",
   "pygments_lexer": "ipython3",
   "version": "3.5.0"
  }
 },
 "nbformat": 4,
 "nbformat_minor": 0
}
