{
 "cells": [
  {
   "cell_type": "code",
   "execution_count": 21,
   "metadata": {
    "collapsed": false
   },
   "outputs": [
    {
     "name": "stdout",
     "output_type": "stream",
     "text": [
      "3.14138462247\n"
     ]
    }
   ],
   "source": [
    "#import numpy for use in functions\n",
    "import numpy as np\n",
    "def Pn(n):\n",
    "    #make a np array a, that stores float\n",
    "    a = np.array([],float)\n",
    "    for x in range (1, n+1):\n",
    "        y = ((-1)**(x+1))/(2*x-1)\n",
    "        #add each new number to the array using concat\n",
    "        a = np.concatenate((a,[y]))\n",
    "    #return the final result for display purposes\n",
    "    return 4*(np.sum(a))\n",
    "def Tn(n):\n",
    "    a = np.array([],float)\n",
    "    for x in range (1, n+1):\n",
    "        y = ((1)/(x*x))\n",
    "        a = np.concatenate((a,[y]))\n",
    "    return (6*(np.sum(a)))**(1/2)\n",
    "def Un(n):\n",
    "    a = np.array([],float)\n",
    "    for x in range (1, n+1):\n",
    "        y = ((1)/(x**4))\n",
    "        a = np.concatenate((a,[y]))\n",
    "    return (90*(np.sum(a)))**(1/4)\n"
   ]
  },
  {
   "cell_type": "code",
   "execution_count": null,
   "metadata": {
    "collapsed": false
   },
   "outputs": [
    {
     "name": "stdout",
     "output_type": "stream",
     "text": [
      "When n = 10, rho_n = 3.04183961893\n",
      "When n = 10, tau_n = 3.04936163598\n",
      "When n = 10, mu_n = 3.14138462247\n",
      "When n = 100, rho_n = 3.13159290356\n",
      "When n = 100, tau_n = 3.13207653181\n",
      "When n = 100, mu_n = 3.14159241531\n",
      "When n = 1000, rho_n = 3.14059265384\n",
      "When n = 1000, tau_n = 3.14063805621\n",
      "When n = 1000, mu_n = 3.14159265335\n",
      "When n = 10000, rho_n = 3.14149265359\n",
      "When n = 10000, tau_n = 3.14149716395\n",
      "When n = 10000, mu_n = 3.14159265359\n",
      "When n = 100000, rho_n = 3.14158265359\n",
      "When n = 100000, tau_n = 3.14158310433\n",
      "When n = 100000, mu_n = 3.14159265359"
     ]
    }
   ],
   "source": [
    "x = 10\n",
    "#use while loop to run 3 programs for different values specified\n",
    "while x < 10000000:\n",
    "    print (\"When n = \" + str(x) + \", rho_n = \" + str(Pn(x)))\n",
    "    print (\"When n = \" + str(x) + \", tau_n = \" + str(Tn(x)))\n",
    "    print (\"When n = \" + str(x) + \", mu_n = \" + str(Un(x)))\n",
    "    #multiply's x by 10 than runs again\n",
    "    x = x*10"
   ]
  }
 ],
 "metadata": {
  "kernelspec": {
   "display_name": "Python 3",
   "language": "python",
   "name": "python3"
  },
  "language_info": {
   "codemirror_mode": {
    "name": "ipython",
    "version": 3
   },
   "file_extension": ".py",
   "mimetype": "text/x-python",
   "name": "python",
   "nbconvert_exporter": "python",
   "pygments_lexer": "ipython3",
   "version": "3.5.0"
  }
 },
 "nbformat": 4,
 "nbformat_minor": 0
}
