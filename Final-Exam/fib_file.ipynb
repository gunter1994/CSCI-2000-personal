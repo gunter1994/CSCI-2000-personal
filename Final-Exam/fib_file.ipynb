{
 "cells": [
  {
   "cell_type": "code",
   "execution_count": 8,
   "metadata": {
    "collapsed": false
   },
   "outputs": [],
   "source": [
    "#simply type the number you want the sequence to go to followed by the first\n",
    "#part of the name of the file like so fib_file(number, filename)\n",
    "def fib_calc(n):\n",
    "    if (n == 0):\n",
    "        return 0\n",
    "    elif (n == 1):\n",
    "        return 1\n",
    "    return fib_calc(n-1) + fib_calc(n-2)\n",
    "def fib_file(n, fname):\n",
    "    writer = open(fname + \"_\" + str(n) + '.txt', 'w')\n",
    "    print(\"n      F_n\", file = writer)\n",
    "    for i in range(n+1):\n",
    "        print(str(i) + \"        \" + str(fib_calc(i)), file = writer)\n",
    "    writer.close()\n",
    "\n",
    "\n",
    "fib_file(6, 'fib')    "
   ]
  },
  {
   "cell_type": "code",
   "execution_count": null,
   "metadata": {
    "collapsed": true
   },
   "outputs": [],
   "source": []
  }
 ],
 "metadata": {
  "kernelspec": {
   "display_name": "Python 3",
   "language": "python",
   "name": "python3"
  },
  "language_info": {
   "codemirror_mode": {
    "name": "ipython",
    "version": 3
   },
   "file_extension": ".py",
   "mimetype": "text/x-python",
   "name": "python",
   "nbconvert_exporter": "python",
   "pygments_lexer": "ipython3",
   "version": "3.5.0"
  }
 },
 "nbformat": 4,
 "nbformat_minor": 0
}
