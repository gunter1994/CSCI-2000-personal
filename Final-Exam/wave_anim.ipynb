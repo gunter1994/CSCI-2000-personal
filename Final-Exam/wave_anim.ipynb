{
 "cells": [
  {
   "cell_type": "code",
   "execution_count": 19,
   "metadata": {
    "collapsed": false
   },
   "outputs": [
    {
     "ename": "SyntaxError",
     "evalue": "invalid syntax (<ipython-input-19-fd26e5600072>, line 11)",
     "output_type": "error",
     "traceback": [
      "\u001b[1;36m  File \u001b[1;32m\"<ipython-input-19-fd26e5600072>\"\u001b[1;36m, line \u001b[1;32m11\u001b[0m\n\u001b[1;33m    u = np.array([], float)\u001b[0m\n\u001b[1;37m    ^\u001b[0m\n\u001b[1;31mSyntaxError\u001b[0m\u001b[1;31m:\u001b[0m invalid syntax\n"
     ]
    }
   ],
   "source": [
    "import math as math\n",
    "import matplotlib.pyplot as plt\n",
    "import numpy as np\n",
    "def waveform1(x,t):\n",
    "    return 1.75*math.sin(x - 20*t)\n",
    "def waveform2(x,t):\n",
    "    return 1.8*math.e**(x - 12*t + 6)**2\n",
    "t = 0\n",
    "x = 1\n",
    "xs = np.array(([], int)\n",
    "u = np.array([], float)\n",
    "u2 = np.array()\n",
    "while t <= 0:\n",
    "    u += waveform1(x,t)\n",
    "    u2 += waveform2(x,t)\n",
    "    xs += x\n",
    "    t += 0.01\n",
    "    x += 1\n",
    "plt.histogram(x,u)\n",
    "plt.xlabel('x')\n",
    "plt.ylabel('u')\n",
    "plt.title('waveform 1')\n",
    "plt.show()"
   ]
  },
  {
   "cell_type": "code",
   "execution_count": null,
   "metadata": {
    "collapsed": true
   },
   "outputs": [],
   "source": []
  },
  {
   "cell_type": "code",
   "execution_count": null,
   "metadata": {
    "collapsed": true
   },
   "outputs": [],
   "source": []
  }
 ],
 "metadata": {
  "kernelspec": {
   "display_name": "Python 3",
   "language": "python",
   "name": "python3"
  },
  "language_info": {
   "codemirror_mode": {
    "name": "ipython",
    "version": 3
   },
   "file_extension": ".py",
   "mimetype": "text/x-python",
   "name": "python",
   "nbconvert_exporter": "python",
   "pygments_lexer": "ipython3",
   "version": "3.5.0"
  }
 },
 "nbformat": 4,
 "nbformat_minor": 0
}
